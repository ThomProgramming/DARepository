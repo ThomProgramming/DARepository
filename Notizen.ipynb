{
 "cells": [
  {
   "cell_type": "markdown",
   "id": "f0d89748-8e04-4b64-a877-6f899f2bbed5",
   "metadata": {},
   "source": [
    "# Prüfung\n",
    "\n",
    "Notebook lineare Regression (mit BMI)  \n",
    "y = mx+t  \n",
    "b0 = t  \n",
    "\n",
    "\n",
    "Art des Zusammenhangs: positive Korrelation, negative Korrelation, keine\n",
    "Linearer Zusammenhang oder nicht?\n",
    "Streuung?\n",
    "Welche Features kann man noch einbauen/Parameter können noch betrachtet werden?"
   ]
  },
  {
   "cell_type": "markdown",
   "id": "adf30c4d-c68a-4e04-83cc-3d81228c1bb4",
   "metadata": {},
   "source": [
    "\n",
    "# Aufschriebe\n",
    "\n",
    "## Lineare Regression\n",
    "\n",
    "x = unabh.\n",
    "y = Abh.\n",
    "\n",
    "Methode der kleinsten Quadrate: Abstand der Punkte zur Regressionslinie. Quadrierung um eine Nullung des Fehlers zu vermeiden -> Fehler heben sich ansonsten auf!\n",
    "\n",
    "Homoskedastizität (H0) \n",
    "Heteroskedastizität: Modellierung der Fehler im Graph; Streuung kann sich unterscheiden je nach Größe der Werte\n",
    "\n",
    "Irrtumswahrscheinlichkeit < 0,05 -> statistische Relevanz gegeben (p<0,05)\n",
    "\n",
    "In welchem Wertebereich macht die Modellierung Sinn/in welchem nicht?\n",
    "\n",
    "R2 = bei 100% keine Streuung, je niedriger desto höher die Streuung \n",
    "f-Wert: zwischen 0 und 1, je größer umso besser sagt das Modell voraus im Vergleich zum Mittelwert. Wert unter 0 -> Modell scheiße"
   ]
  },
  {
   "cell_type": "markdown",
   "id": "8bc408d5",
   "metadata": {},
   "source": [
    "## Klassifikation\n",
    "\n",
    "Einordnung in Klassen (ist ein Haus in NY oder in SanFran?) basierend auf verschiedenen Decision Trees (mehrere Features)\n"
   ]
  },
  {
   "cell_type": "markdown",
   "id": "0d66ef8f",
   "metadata": {},
   "source": [
    "## Diagnostics\n",
    "\n",
    "Outliers: abnormal hohe y-Werte\n",
    "Leverage: abnormal hohe x-Werte"
   ]
  },
  {
   "cell_type": "markdown",
   "id": "9905db34",
   "metadata": {},
   "source": [
    "## Decision Trees\n",
    "\n",
    "Ziel: Varianz und Bias minimieren\n"
   ]
  },
  {
   "cell_type": "markdown",
   "id": "f84c4a69",
   "metadata": {},
   "source": [
    "## Ablauf Modellierung\n",
    "\n"
   ]
  },
  {
   "cell_type": "markdown",
   "id": "afe505a7",
   "metadata": {},
   "source": [
    "# Python Notizen\n",
    "\n",
    "source activate xgboost\n",
    "```python \n",
    "#virtuelle Umgebung starten (hier xgboost)\n",
    "```"
   ]
  }
 ],
 "metadata": {
  "kernelspec": {
   "display_name": "Python 3 (ipykernel)",
   "language": "python",
   "name": "python3"
  },
  "language_info": {
   "codemirror_mode": {
    "name": "ipython",
    "version": 3
   },
   "file_extension": ".py",
   "mimetype": "text/x-python",
   "name": "python",
   "nbconvert_exporter": "python",
   "pygments_lexer": "ipython3",
   "version": "3.9.7"
  }
 },
 "nbformat": 4,
 "nbformat_minor": 5
}
